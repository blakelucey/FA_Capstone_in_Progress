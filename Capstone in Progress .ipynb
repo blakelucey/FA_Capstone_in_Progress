{
 "cells": [
  {
   "cell_type": "code",
   "execution_count": 1,
   "metadata": {},
   "outputs": [],
   "source": [
    "import pandas as pd\n",
    "import numpy as np\n",
    "import matplotlib as plt\n",
    "import cvxopt as opt\n",
    "from cvxopt import blas, solvers\n",
    "from sklearn.linear_model import LinearRegression"
   ]
  },
  {
   "cell_type": "code",
   "execution_count": 2,
   "metadata": {
    "scrolled": true
   },
   "outputs": [
    {
     "name": "stdout",
     "output_type": "stream",
     "text": [
      "      Date       Open       High        Low      Close  Adj Close    Volume\n",
      "0  6/24/19  84.779999  85.330002  84.639999  84.709999  83.350471   4531600\n",
      "1  6/25/19  84.940002  85.449997  84.239998  84.239998  82.888008   4915300\n",
      "2  6/26/19  84.050003  84.370003  82.629997  82.959999  81.628563   5731400\n",
      "3  6/27/19  83.389999  83.980003  83.070000  83.690002  82.346848   4111600\n",
      "4  6/28/19  83.820000  84.260002  83.120003  84.099998  82.750259  16436700\n"
     ]
    }
   ],
   "source": [
    "#Import CSVs\n",
    "ABT = pd.read_csv('/Users/BLucey/Desktop/Coding/Codeacademy/Python/FA/Capstone/CSV/ABT.csv')\n",
    "DIV = pd.read_csv('/Users/BLucey/Desktop/Coding/Codeacademy/Python/FA/Capstone/CSV/DIV.csv')\n",
    "JPM = pd.read_csv('/Users/BLucey/Desktop/Coding/Codeacademy/Python/FA/Capstone/CSV/JPM.csv')\n",
    "O = pd.read_csv('/Users/BLucey/Desktop/Coding/Codeacademy/Python/FA/Capstone/CSV/O.csv')\n",
    "TSLA = pd.read_csv('/Users/BLucey/Desktop/Coding/Codeacademy/Python/FA/Capstone/CSV/TSLA.csv')\n",
    "TSM = pd.read_csv('/Users/BLucey/Desktop/Coding/Codeacademy/Python/FA/Capstone/CSV/TSM.csv')\n",
    "\n",
    "print(ABT.head())"
   ]
  },
  {
   "cell_type": "code",
   "execution_count": 3,
   "metadata": {
    "scrolled": false
   },
   "outputs": [
    {
     "name": "stdout",
     "output_type": "stream",
     "text": [
      "      Date        ABT\n",
      "0  6/24/19  83.350471\n",
      "1  6/25/19  82.888008\n",
      "2  6/26/19  81.628563\n",
      "3  6/27/19  82.346848\n",
      "4  6/28/19  82.750259\n",
      "         DIV\n",
      "0  20.573940\n",
      "1  20.546385\n",
      "2  20.426981\n",
      "3  20.601498\n",
      "4  20.803556\n",
      "          JPM\n",
      "0  105.262070\n",
      "1  104.390221\n",
      "2  105.087700\n",
      "3  105.436440\n",
      "4  108.303879\n",
      "           O\n",
      "0  68.945511\n",
      "1  67.629623\n",
      "2  65.795044\n",
      "3  66.678711\n",
      "4  66.463326\n",
      "         TSLA\n",
      "0  223.639999\n",
      "1  219.759995\n",
      "2  219.270004\n",
      "3  222.839996\n",
      "4  223.460007\n",
      "         TSM\n",
      "0  38.758575\n",
      "1  37.730961\n",
      "2  37.886074\n",
      "3  38.380489\n",
      "4  37.973324\n"
     ]
    },
    {
     "name": "stderr",
     "output_type": "stream",
     "text": [
      "/opt/miniconda3/lib/python3.7/site-packages/pandas/core/frame.py:4133: SettingWithCopyWarning: \n",
      "A value is trying to be set on a copy of a slice from a DataFrame\n",
      "\n",
      "See the caveats in the documentation: https://pandas.pydata.org/pandas-docs/stable/user_guide/indexing.html#returning-a-view-versus-a-copy\n",
      "  errors=errors,\n",
      "/opt/miniconda3/lib/python3.7/site-packages/pandas/core/frame.py:4133: SettingWithCopyWarning: \n",
      "A value is trying to be set on a copy of a slice from a DataFrame\n",
      "\n",
      "See the caveats in the documentation: https://pandas.pydata.org/pandas-docs/stable/user_guide/indexing.html#returning-a-view-versus-a-copy\n",
      "  errors=errors,\n",
      "/opt/miniconda3/lib/python3.7/site-packages/pandas/core/frame.py:4133: SettingWithCopyWarning: \n",
      "A value is trying to be set on a copy of a slice from a DataFrame\n",
      "\n",
      "See the caveats in the documentation: https://pandas.pydata.org/pandas-docs/stable/user_guide/indexing.html#returning-a-view-versus-a-copy\n",
      "  errors=errors,\n",
      "/opt/miniconda3/lib/python3.7/site-packages/pandas/core/frame.py:4133: SettingWithCopyWarning: \n",
      "A value is trying to be set on a copy of a slice from a DataFrame\n",
      "\n",
      "See the caveats in the documentation: https://pandas.pydata.org/pandas-docs/stable/user_guide/indexing.html#returning-a-view-versus-a-copy\n",
      "  errors=errors,\n",
      "/opt/miniconda3/lib/python3.7/site-packages/pandas/core/frame.py:4133: SettingWithCopyWarning: \n",
      "A value is trying to be set on a copy of a slice from a DataFrame\n",
      "\n",
      "See the caveats in the documentation: https://pandas.pydata.org/pandas-docs/stable/user_guide/indexing.html#returning-a-view-versus-a-copy\n",
      "  errors=errors,\n",
      "/opt/miniconda3/lib/python3.7/site-packages/pandas/core/frame.py:4133: SettingWithCopyWarning: \n",
      "A value is trying to be set on a copy of a slice from a DataFrame\n",
      "\n",
      "See the caveats in the documentation: https://pandas.pydata.org/pandas-docs/stable/user_guide/indexing.html#returning-a-view-versus-a-copy\n",
      "  errors=errors,\n"
     ]
    }
   ],
   "source": [
    "#Parse out unnecessary columns\n",
    "ABT_1 = ABT[['Date','Adj Close']]\n",
    "ABT_1.rename(columns = {'Adj Close' : 'ABT'}, inplace = True)\n",
    "print(ABT_1.head())\n",
    "\n",
    "\n",
    "DIV_1 = DIV[['Adj Close']]\n",
    "DIV_1.rename(columns = {'Adj Close' : 'DIV'}, inplace = True)\n",
    "print(DIV_1.head())\n",
    "\n",
    "\n",
    "JPM_1 = JPM[['Adj Close']]\n",
    "JPM_1.rename(columns = {'Adj Close' : 'JPM'}, inplace = True)\n",
    "print(JPM_1.head())\n",
    "\n",
    "\n",
    "O_1 = O[['Adj Close']]\n",
    "O_1.rename(columns = {'Adj Close' : 'O'}, inplace = True)\n",
    "print(O_1.head())\n",
    "\n",
    "            \n",
    "TSLA_1 = TSLA[['Adj Close']]\n",
    "TSLA_1.rename(columns = {'Adj Close' : 'TSLA'}, inplace = True)\n",
    "print(TSLA_1.head())\n",
    "\n",
    "\n",
    "TSM_1 = TSM[['Adj Close']]\n",
    "TSM_1.rename(columns = {'Adj Close' : 'TSM'}, inplace = True)\n",
    "print(TSM_1.head())\n",
    "\n"
   ]
  },
  {
   "cell_type": "code",
   "execution_count": 4,
   "metadata": {
    "scrolled": false
   },
   "outputs": [
    {
     "name": "stdout",
     "output_type": "stream",
     "text": [
      "        Date        ABT        DIV         JPM          O         TSLA  \\\n",
      "0    6/24/19  83.350471  20.573940  105.262070  68.945511   223.639999   \n",
      "1    6/25/19  82.888008  20.546385  104.390221  67.629623   219.759995   \n",
      "2    6/26/19  81.628563  20.426981  105.087700  65.795044   219.270004   \n",
      "3    6/27/19  82.346848  20.601498  105.436440  66.678711   222.839996   \n",
      "4    6/28/19  82.750259  20.803556  108.303879  66.463326   223.460007   \n",
      "..       ...        ...        ...         ...        ...          ...   \n",
      "249  6/18/20  90.279999  15.660000   98.940002  63.389999  1003.960022   \n",
      "250  6/19/20  90.680000  15.490000   97.809998  61.529999  1000.900024   \n",
      "251  6/22/20  90.339996  15.450000   96.750000  61.439999   994.320007   \n",
      "252  6/23/20  91.300003  15.390000   97.930000  61.270000  1001.780029   \n",
      "253  6/24/20  87.190002  14.940000   94.669998  58.509998   963.289978   \n",
      "\n",
      "           TSM  \n",
      "0    38.758575  \n",
      "1    37.730961  \n",
      "2    37.886074  \n",
      "3    38.380489  \n",
      "4    37.973324  \n",
      "..         ...  \n",
      "249  56.150002  \n",
      "250  55.310001  \n",
      "251  56.000000  \n",
      "252  56.759998  \n",
      "253  56.630001  \n",
      "\n",
      "[254 rows x 7 columns]\n",
      "<class 'pandas.core.frame.DataFrame'>\n",
      "Index: 254 entries, 6/24/19 to 6/24/20\n",
      "Data columns (total 6 columns):\n",
      " #   Column  Non-Null Count  Dtype  \n",
      "---  ------  --------------  -----  \n",
      " 0   ABT     254 non-null    float64\n",
      " 1   DIV     254 non-null    float64\n",
      " 2   JPM     254 non-null    float64\n",
      " 3   O       254 non-null    float64\n",
      " 4   TSLA    254 non-null    float64\n",
      " 5   TSM     254 non-null    float64\n",
      "dtypes: float64(6)\n",
      "memory usage: 13.9+ KB\n",
      "None\n"
     ]
    }
   ],
   "source": [
    "#New comprehensive dataframe\n",
    "ABT_1.insert(2, 'DIV', DIV_1)\n",
    "ABT_1.insert(3, 'JPM', JPM_1)\n",
    "ABT_1.insert(4, 'O', O_1)\n",
    "ABT_1.insert(5, 'TSLA', TSLA_1)\n",
    "ABT_1.insert(6, 'TSM', TSM_1)\n",
    "print(ABT_1)\n",
    "\n",
    "#Change Date to Index\n",
    "df = ABT_1.set_index('Date')\n",
    "\n",
    "print(df.info())\n"
   ]
  },
  {
   "cell_type": "code",
   "execution_count": 5,
   "metadata": {
    "scrolled": false
   },
   "outputs": [
    {
     "name": "stdout",
     "output_type": "stream",
     "text": [
      "              ABT       DIV       JPM         O      TSLA       TSM\n",
      "Date                                                               \n",
      "6/24/19       NaN       NaN       NaN       NaN       NaN       NaN\n",
      "6/25/19 -0.005548 -0.001339 -0.008283 -0.019086 -0.017349 -0.026513\n",
      "6/26/19 -0.015195 -0.005811  0.006681 -0.027127 -0.002230  0.004111\n",
      "6/27/19  0.008799  0.008543  0.003319  0.013431  0.016281  0.013050\n",
      "6/28/19  0.004899  0.009808  0.027196 -0.003230  0.002782 -0.010609\n",
      "...           ...       ...       ...       ...       ...       ...\n",
      "6/18/20 -0.006821  0.000639 -0.005428  0.005233  0.012271 -0.000534\n",
      "6/19/20  0.004431 -0.010856 -0.011421 -0.029342 -0.003048 -0.014960\n",
      "6/22/20 -0.003749 -0.002582 -0.010837 -0.001463 -0.006574  0.012475\n",
      "6/23/20  0.010627 -0.003883  0.012196 -0.002767  0.007503  0.013571\n",
      "6/24/20 -0.045016 -0.029240 -0.033289 -0.045047 -0.038422 -0.002290\n",
      "\n",
      "[254 rows x 6 columns]\n",
      "ABT     0.000453\n",
      "DIV    -0.000895\n",
      "JPM     0.000080\n",
      "O       0.000011\n",
      "TSLA    0.006957\n",
      "TSM     0.001800\n",
      "dtype: float64\n"
     ]
    }
   ],
   "source": [
    "#Expected Returns\n",
    "daily_ER = df.pct_change()\n",
    "print(daily_ER)\n",
    "\n",
    "AVG_daily_ER = daily_ER.mean()\n",
    "print(AVG_daily_ER)"
   ]
  },
  {
   "cell_type": "code",
   "execution_count": 6,
   "metadata": {},
   "outputs": [
    {
     "name": "stdout",
     "output_type": "stream",
     "text": [
      "           ABT       DIV       JPM         O      TSLA       TSM\n",
      "ABT   0.000553  0.000299  0.000448  0.000356  0.000341  0.000327\n",
      "DIV   0.000299  0.000709  0.000693  0.000783  0.000630  0.000375\n",
      "JPM   0.000448  0.000693  0.001002  0.000787  0.000587  0.000518\n",
      "O     0.000356  0.000783  0.000787  0.001250  0.000831  0.000443\n",
      "TSLA  0.000341  0.000630  0.000587  0.000831  0.002347  0.000552\n",
      "TSM   0.000327  0.000375  0.000518  0.000443  0.000552  0.000596\n"
     ]
    }
   ],
   "source": [
    "#Calculate Covariance\n",
    "covariance = daily_ER.cov()\n",
    "print(covariance)"
   ]
  },
  {
   "cell_type": "code",
   "execution_count": 7,
   "metadata": {},
   "outputs": [],
   "source": [
    "#Define Return Portfolios\n",
    "def return_portfolios(expected_returns, cov_matrix):\n",
    "    port_returns = []\n",
    "    port_volatility = []\n",
    "    stock_weights = []\n",
    "\n",
    "    selected = (expected_returns.axes)[0]\n",
    "\n",
    "    num_assets = len(selected)\n",
    "    num_portfolios = 5000\n",
    "\n",
    "    for single_portfolio in range(num_portfolios):\n",
    "        weights = np.random.random(num_assets)\n",
    "        weights /= np.sum(weights)\n",
    "        returns = np.dot(weights, expected_returns)\n",
    "        volatility = np.sqrt(np.dot(weights.T,np.dot(cov_matrix, weights)))\n",
    "        port_returns.append(returns)\n",
    "        port_volatility.append(volatility)\n",
    "\n",
    "        stock_weights.append(weights)\n",
    "\n",
    "    portfolio = {'Returns': port_returns, 'Volatility': port_volatility}\n",
    "\n",
    "    for counter, symbol in enumerate(selected):\n",
    "        portfolio[symbol + 'Weight'] = [Weight [counter] for Weight in stock_weights]\n",
    "\n",
    "        df = pd.Dataframe(portfolio)\n",
    "\n",
    "        column_order = ['Returns', 'Volatility'] + [stock +' Weight' for stock in selected]\n",
    "\n",
    "        df = df[column_order]\n",
    "\n",
    "        return df\n"
   ]
  },
  {
   "cell_type": "code",
   "execution_count": 8,
   "metadata": {},
   "outputs": [],
   "source": [
    "#Define Optimal Portfolio\n",
    "def optimal_portfolio(returns):\n",
    "    n = returns.shape[1]\n",
    "    returns = np.transpose(returns.as_matrix())\n",
    "\n",
    "    N = 100\n",
    "    mus = [10 ** (5.0 * t/N - 1.0) for t in range (N)]\n",
    "\n",
    "    #Convert to cvxopt matrices\n",
    "    S = opt.matrix(np.cov(returns))\n",
    "    pbar = opt.matrix(np.mean(returns, axis = 1))\n",
    "\n",
    "    #Create constraint matrices\n",
    "    G = -opt.matrix(np.eye(n)) #negative n x n identity matrix\n",
    "    h = opt.matrix(0.0, (n, 1))\n",
    "    A = opt.matrix(1.0, (1, n))\n",
    "    b = opt.matrix(1.0)\n",
    "\n",
    "    #Calculate efficient frontier weights using quadratic programming\n",
    "    portfolios = [solvers.qp(mu * S, -pbar, G, h, A, b)['x'] for mu in mus]\n",
    "\n",
    "    ##Calculate the 2nd degree polynomial of the frontier curve\n",
    "    m1 = np.polyfit(returns, risks, 2)\n",
    "    x1 = np.sqrt(m1[2] / m1[0])\n",
    "\n",
    "    #Calculate the optimal portfolio\n",
    "    wt = solvers.qp(opt.matrix(x1 * S), -pbar, G, h, A, b)['x']\n",
    "    return np.asarray(wt), returns, risks\n"
   ]
  },
  {
   "cell_type": "code",
   "execution_count": 9,
   "metadata": {
    "scrolled": true
   },
   "outputs": [
    {
     "ename": "ValueError",
     "evalue": "shapes (6,6) and (254,) not aligned: 6 (dim 1) != 254 (dim 0)",
     "output_type": "error",
     "traceback": [
      "\u001b[0;31m---------------------------------------------------------------------------\u001b[0m",
      "\u001b[0;31mValueError\u001b[0m                                Traceback (most recent call last)",
      "\u001b[0;32m<ipython-input-9-f1e87857141b>\u001b[0m in \u001b[0;36m<module>\u001b[0;34m\u001b[0m\n\u001b[1;32m      1\u001b[0m \u001b[0;31m#Plot Efficient Frontier\u001b[0m\u001b[0;34m\u001b[0m\u001b[0;34m\u001b[0m\u001b[0;34m\u001b[0m\u001b[0m\n\u001b[0;32m----> 2\u001b[0;31m \u001b[0mdf_1\u001b[0m \u001b[0;34m=\u001b[0m \u001b[0mreturn_portfolios\u001b[0m\u001b[0;34m(\u001b[0m\u001b[0mdaily_ER\u001b[0m\u001b[0;34m,\u001b[0m \u001b[0mcovariance\u001b[0m\u001b[0;34m)\u001b[0m\u001b[0;34m\u001b[0m\u001b[0;34m\u001b[0m\u001b[0m\n\u001b[0m\u001b[1;32m      3\u001b[0m \u001b[0;34m\u001b[0m\u001b[0m\n\u001b[1;32m      4\u001b[0m \u001b[0mweights\u001b[0m\u001b[0;34m,\u001b[0m \u001b[0mreturns\u001b[0m\u001b[0;34m,\u001b[0m \u001b[0mrisks\u001b[0m \u001b[0;34m=\u001b[0m \u001b[0moptimal_portfolio\u001b[0m\u001b[0;34m(\u001b[0m\u001b[0mdaily_ER\u001b[0m\u001b[0;34m[\u001b[0m\u001b[0;36m1\u001b[0m\u001b[0;34m:\u001b[0m\u001b[0;34m]\u001b[0m\u001b[0;34m)\u001b[0m\u001b[0;34m\u001b[0m\u001b[0;34m\u001b[0m\u001b[0m\n\u001b[1;32m      5\u001b[0m \u001b[0;34m\u001b[0m\u001b[0m\n",
      "\u001b[0;32m<ipython-input-7-d248522d6f87>\u001b[0m in \u001b[0;36mreturn_portfolios\u001b[0;34m(expected_returns, cov_matrix)\u001b[0m\n\u001b[1;32m     14\u001b[0m         \u001b[0mweights\u001b[0m \u001b[0;34m/=\u001b[0m \u001b[0mnp\u001b[0m\u001b[0;34m.\u001b[0m\u001b[0msum\u001b[0m\u001b[0;34m(\u001b[0m\u001b[0mweights\u001b[0m\u001b[0;34m)\u001b[0m\u001b[0;34m\u001b[0m\u001b[0;34m\u001b[0m\u001b[0m\n\u001b[1;32m     15\u001b[0m         \u001b[0mreturns\u001b[0m \u001b[0;34m=\u001b[0m \u001b[0mnp\u001b[0m\u001b[0;34m.\u001b[0m\u001b[0mdot\u001b[0m\u001b[0;34m(\u001b[0m\u001b[0mweights\u001b[0m\u001b[0;34m,\u001b[0m \u001b[0mexpected_returns\u001b[0m\u001b[0;34m)\u001b[0m\u001b[0;34m\u001b[0m\u001b[0;34m\u001b[0m\u001b[0m\n\u001b[0;32m---> 16\u001b[0;31m         \u001b[0mvolatility\u001b[0m \u001b[0;34m=\u001b[0m \u001b[0mnp\u001b[0m\u001b[0;34m.\u001b[0m\u001b[0msqrt\u001b[0m\u001b[0;34m(\u001b[0m\u001b[0mnp\u001b[0m\u001b[0;34m.\u001b[0m\u001b[0mdot\u001b[0m\u001b[0;34m(\u001b[0m\u001b[0mweights\u001b[0m\u001b[0;34m.\u001b[0m\u001b[0mT\u001b[0m\u001b[0;34m,\u001b[0m\u001b[0mnp\u001b[0m\u001b[0;34m.\u001b[0m\u001b[0mdot\u001b[0m\u001b[0;34m(\u001b[0m\u001b[0mcov_matrix\u001b[0m\u001b[0;34m,\u001b[0m \u001b[0mweights\u001b[0m\u001b[0;34m)\u001b[0m\u001b[0;34m)\u001b[0m\u001b[0;34m)\u001b[0m\u001b[0;34m\u001b[0m\u001b[0;34m\u001b[0m\u001b[0m\n\u001b[0m\u001b[1;32m     17\u001b[0m         \u001b[0mport_returns\u001b[0m\u001b[0;34m.\u001b[0m\u001b[0mappend\u001b[0m\u001b[0;34m(\u001b[0m\u001b[0mreturns\u001b[0m\u001b[0;34m)\u001b[0m\u001b[0;34m\u001b[0m\u001b[0;34m\u001b[0m\u001b[0m\n\u001b[1;32m     18\u001b[0m         \u001b[0mport_volatility\u001b[0m\u001b[0;34m.\u001b[0m\u001b[0mappend\u001b[0m\u001b[0;34m(\u001b[0m\u001b[0mvolatility\u001b[0m\u001b[0;34m)\u001b[0m\u001b[0;34m\u001b[0m\u001b[0;34m\u001b[0m\u001b[0m\n",
      "\u001b[0;32m<__array_function__ internals>\u001b[0m in \u001b[0;36mdot\u001b[0;34m(*args, **kwargs)\u001b[0m\n",
      "\u001b[0;31mValueError\u001b[0m: shapes (6,6) and (254,) not aligned: 6 (dim 1) != 254 (dim 0)"
     ]
    }
   ],
   "source": [
    "#Plot Efficient Frontier\n",
    "df_1 = return_portfolios(daily_ER, covariance)\n",
    "\n",
    "weights, returns, risks = optimal_portfolio(daily_ER[1:])\n",
    "\n",
    "Data.plot.scatter(x = 'Volatility', y = 'Returns', fontsize = 12)\n",
    "plt.plot(risks, returns, 'y-o')\n",
    "plt.scatter(single_asset_std, daily_ER, marker = 'X', color = 'orange', s = 200)\n",
    "for xc in single_asset_std:\n",
    "    plt.axvline(x = xc, color = 'orange')\n"
   ]
  }
 ],
 "metadata": {
  "kernelspec": {
   "display_name": "Python 3",
   "language": "python",
   "name": "python3"
  },
  "language_info": {
   "codemirror_mode": {
    "name": "ipython",
    "version": 3
   },
   "file_extension": ".py",
   "mimetype": "text/x-python",
   "name": "python",
   "nbconvert_exporter": "python",
   "pygments_lexer": "ipython3",
   "version": "3.7.6"
  }
 },
 "nbformat": 4,
 "nbformat_minor": 4
}
